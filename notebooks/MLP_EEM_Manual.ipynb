{
 "cells": [
  {
   "cell_type": "code",
   "execution_count": 1,
   "id": "fe89e949-4671-4d9b-bfd7-7304f4260f88",
   "metadata": {},
   "outputs": [],
   "source": [
    "import tensorflow as tf\n",
    "import pandas as pd\n",
    "import numpy as np\n",
    "from tensorflow.keras.models import Sequential\n",
    "from tensorflow.keras.layers import Dense, Dropout\n",
    "from tensorflow.keras.callbacks import EarlyStopping\n",
    "from sklearn.metrics import mean_squared_error, mean_absolute_error, r2_score\n",
    "import matplotlib.pyplot as plt\n",
    "import keras_tuner as kt\n",
    "from tensorflow import keras\n",
    "from tensorflow.keras import layers"
   ]
  },
  {
   "cell_type": "code",
   "execution_count": 2,
   "id": "f6ecfebc-2a25-47bf-b7c1-cdd4bf888d2d",
   "metadata": {},
   "outputs": [],
   "source": [
    "final_df = pd.read_csv(\"../data/final_features_with_targets.csv\", parse_dates=['Date'], index_col='Date')\n",
    "\n",
    "feature_cols = [col for col in final_df.columns if not col.endswith('_target_5d')]\n",
    "target_cols = [col for col in final_df.columns if col.endswith('_target_5d')]\n",
    "\n",
    "X = final_df[feature_cols]\n",
    "y = final_df[target_cols]"
   ]
  },
  {
   "cell_type": "code",
   "execution_count": null,
   "id": "138f38d7-1d1c-481d-a89e-c278eea84685",
   "metadata": {},
   "outputs": [],
   "source": [
    "asset_main = \"EEM\"\n",
    "\n",
    "asset_features = [col for col in X.columns if col.startswith(asset_main)]\n",
    "X_asset = X[asset_features]\n",
    "y_asset = y[f\"{asset_main}_target_5d\"]\n",
    "\n",
    "data = pd.concat([X_asset, y_asset], axis=1).dropna()\n",
    "X_asset = data[asset_features]\n",
    "y_asset = data[f\"{asset_main}_target_5d\"]\n",
    "\n",
    "# 80-20 train validation split \n",
    "split_index = int(len(X_asset) * 0.8)\n",
    "X_train, X_val = X_asset.iloc[:split_index], X_asset.iloc[split_index:]\n",
    "y_train, y_val = y_asset.iloc[:split_index], y_asset.iloc[split_index:]\n",
    "\n",
    "#MLP Sequential model picked \n",
    "model = Sequential([\n",
    "    Dense(64, activation='relu', input_shape=(X_train.shape[1],)),\n",
    "    Dropout(0.2),\n",
    "    Dense(32, activation='relu'),\n",
    "    Dropout(0.1),\n",
    "    Dense(1)  \n",
    "])\n",
    "\n",
    "model.compile(optimizer='adam', loss='mse')\n",
    "\n",
    "early_stop = EarlyStopping(monitor='val_loss', patience=10, restore_best_weights=True)\n",
    "\n",
    "history = model.fit(\n",
    "    X_train, y_train,\n",
    "    validation_data=(X_val, y_val),\n",
    "    epochs=100,\n",
    "    batch_size=32,\n",
    "    callbacks=[early_stop],\n",
    "    verbose=1\n",
    ")\n",
    "\n",
    "y_pred = model.predict(X_val).flatten()\n",
    "\n",
    "rmse = np.sqrt(mean_squared_error(y_val, y_pred))\n",
    "mae = mean_absolute_error(y_val, y_pred)\n",
    "r2 = r2_score(y_val, y_pred)\n",
    "\n",
    "print(f\"\\n MLP Evaluation for {asset_main}:\")\n",
    "print(f\"RMSE: {rmse:.5f}\")\n",
    "print(f\"MAE : {mae:.5f}\")\n",
    "print(f\"R²  : {r2:.5f}\")\n"
   ]
  },
  {
   "cell_type": "code",
   "execution_count": null,
   "id": "1143ba4c-d2c7-4ed4-b846-1b04380c746b",
   "metadata": {},
   "outputs": [],
   "source": [
    "plt.figure(figsize=(12, 4))\n",
    "plt.plot(y_val.index, y_val.values, label='Actual', color='black')\n",
    "plt.plot(y_val.index, y_pred, label='Predicted', color='red')\n",
    "plt.title(f'{asset_main} - Actual vs Predicted 5-day Returns')\n",
    "plt.xlabel('Date')\n",
    "plt.ylabel('5-day Return')\n",
    "plt.legend()\n",
    "plt.tight_layout()\n",
    "plt.show()"
   ]
  }
 ],
 "metadata": {
  "kernelspec": {
   "display_name": "Python (qfai)",
   "language": "python",
   "name": "qfai"
  },
  "language_info": {
   "codemirror_mode": {
    "name": "ipython",
    "version": 3
   },
   "file_extension": ".py",
   "mimetype": "text/x-python",
   "name": "python",
   "nbconvert_exporter": "python",
   "pygments_lexer": "ipython3",
   "version": "3.9.6"
  }
 },
 "nbformat": 4,
 "nbformat_minor": 5
}
