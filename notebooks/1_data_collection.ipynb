{
 "cells": [
  {
   "cell_type": "code",
   "execution_count": 2,
   "id": "cd5f9837-8250-498b-adac-c0a9123e4b73",
   "metadata": {},
   "outputs": [],
   "source": [
    "import yfinance as yf\n",
    "import pandas as pd\n",
    "import os"
   ]
  },
  {
   "cell_type": "code",
   "execution_count": 5,
   "id": "14bf25ce-a999-420f-90b9-13cd1c0da63b",
   "metadata": {},
   "outputs": [],
   "source": [
    "os.makedirs(\"../data\", exist_ok=True)"
   ]
  },
  {
   "cell_type": "code",
   "execution_count": 7,
   "id": "87c7b87d-00ec-46be-9a6f-6d98a09d5425",
   "metadata": {},
   "outputs": [],
   "source": [
    "# The below code block is for downloading a diversified set of assets since it covers global markets. \n",
    "## Equities US, Europe, Japan and Emerging markets along with commodities like gold and bonds will be tracked. \n",
    "## The date range in the paper was till 2020 but I am extending the date range and collecting the data till 2024. I am hoping to generalise \n",
    "## the model trying to include covid uncertainities. "
   ]
  },
  {
   "cell_type": "code",
   "execution_count": 42,
   "id": "6a89d535-b40b-42b9-a63a-7ccc5023bc07",
   "metadata": {},
   "outputs": [
    {
     "name": "stderr",
     "output_type": "stream",
     "text": [
      "[*********************100%***********************]  6 of 6 completed\n"
     ]
    }
   ],
   "source": [
    "import yfinance as yf\n",
    "import pandas as pd\n",
    "import os\n",
    "\n",
    "tickers = {\n",
    "    'S&P500': '^GSPC',\n",
    "    'FTSE100': '^FTSE',\n",
    "    'Nikkei225': '^N225',\n",
    "    'EEM': 'EEM',\n",
    "    'Gold': 'GLD',\n",
    "    'UST10Y': '^TNX'\n",
    "}\n",
    "\n",
    "start_date = \"2010-01-01\"\n",
    "end_date = \"2024-12-31\"\n",
    "\n",
    "# Downloading all tickers \n",
    "data = yf.download(\n",
    "    list(tickers.values()),\n",
    "    start=start_date,\n",
    "    end=end_date,\n",
    "    auto_adjust=False,\n",
    "    progress=True\n",
    ")\n",
    "\n",
    "adj_close = data['Adj Close']\n",
    "\n",
    "#Renaming\n",
    "rename_map = {v: k for k, v in tickers.items()}\n",
    "adj_close = adj_close.rename(columns=rename_map)\n",
    "\n",
    "#Dropping rows with missing values\n",
    "adj_close.dropna(inplace=True)\n",
    "\n",
    "os.makedirs(\"../data\", exist_ok=True)\n",
    "adj_close.to_csv(\"../data/Qf_data.csv\")\n"
   ]
  },
  {
   "cell_type": "code",
   "execution_count": 44,
   "id": "448080e9-fc61-4734-9dca-ee33cb0372cd",
   "metadata": {},
   "outputs": [
    {
     "data": {
      "text/html": [
       "<div>\n",
       "<style scoped>\n",
       "    .dataframe tbody tr th:only-of-type {\n",
       "        vertical-align: middle;\n",
       "    }\n",
       "\n",
       "    .dataframe tbody tr th {\n",
       "        vertical-align: top;\n",
       "    }\n",
       "\n",
       "    .dataframe thead th {\n",
       "        text-align: right;\n",
       "    }\n",
       "</style>\n",
       "<table border=\"1\" class=\"dataframe\">\n",
       "  <thead>\n",
       "    <tr style=\"text-align: right;\">\n",
       "      <th></th>\n",
       "      <th>EEM</th>\n",
       "      <th>Gold</th>\n",
       "      <th>FTSE100</th>\n",
       "      <th>S&amp;P500</th>\n",
       "      <th>Nikkei225</th>\n",
       "      <th>UST10Y</th>\n",
       "    </tr>\n",
       "    <tr>\n",
       "      <th>Date</th>\n",
       "      <th></th>\n",
       "      <th></th>\n",
       "      <th></th>\n",
       "      <th></th>\n",
       "      <th></th>\n",
       "      <th></th>\n",
       "    </tr>\n",
       "  </thead>\n",
       "  <tbody>\n",
       "    <tr>\n",
       "      <th>2010-01-04</th>\n",
       "      <td>30.785858</td>\n",
       "      <td>109.800003</td>\n",
       "      <td>5500.299805</td>\n",
       "      <td>1132.989990</td>\n",
       "      <td>10654.790039</td>\n",
       "      <td>3.841</td>\n",
       "    </tr>\n",
       "    <tr>\n",
       "      <th>2010-01-05</th>\n",
       "      <td>31.009306</td>\n",
       "      <td>109.699997</td>\n",
       "      <td>5522.500000</td>\n",
       "      <td>1136.520020</td>\n",
       "      <td>10681.830078</td>\n",
       "      <td>3.755</td>\n",
       "    </tr>\n",
       "    <tr>\n",
       "      <th>2010-01-06</th>\n",
       "      <td>31.074186</td>\n",
       "      <td>111.510002</td>\n",
       "      <td>5530.000000</td>\n",
       "      <td>1137.140015</td>\n",
       "      <td>10731.450195</td>\n",
       "      <td>3.808</td>\n",
       "    </tr>\n",
       "    <tr>\n",
       "      <th>2010-01-07</th>\n",
       "      <td>30.893974</td>\n",
       "      <td>110.820000</td>\n",
       "      <td>5526.700195</td>\n",
       "      <td>1141.689941</td>\n",
       "      <td>10681.660156</td>\n",
       "      <td>3.822</td>\n",
       "    </tr>\n",
       "    <tr>\n",
       "      <th>2010-01-08</th>\n",
       "      <td>31.139063</td>\n",
       "      <td>111.370003</td>\n",
       "      <td>5534.200195</td>\n",
       "      <td>1144.979980</td>\n",
       "      <td>10798.320312</td>\n",
       "      <td>3.808</td>\n",
       "    </tr>\n",
       "  </tbody>\n",
       "</table>\n",
       "</div>"
      ],
      "text/plain": [
       "                  EEM        Gold      FTSE100       S&P500     Nikkei225  \\\n",
       "Date                                                                        \n",
       "2010-01-04  30.785858  109.800003  5500.299805  1132.989990  10654.790039   \n",
       "2010-01-05  31.009306  109.699997  5522.500000  1136.520020  10681.830078   \n",
       "2010-01-06  31.074186  111.510002  5530.000000  1137.140015  10731.450195   \n",
       "2010-01-07  30.893974  110.820000  5526.700195  1141.689941  10681.660156   \n",
       "2010-01-08  31.139063  111.370003  5534.200195  1144.979980  10798.320312   \n",
       "\n",
       "            UST10Y  \n",
       "Date                \n",
       "2010-01-04   3.841  \n",
       "2010-01-05   3.755  \n",
       "2010-01-06   3.808  \n",
       "2010-01-07   3.822  \n",
       "2010-01-08   3.808  "
      ]
     },
     "execution_count": 44,
     "metadata": {},
     "output_type": "execute_result"
    }
   ],
   "source": [
    "df = pd.read_csv(\"../data/qf_data.csv\", index_col=0, parse_dates=True)\n",
    "df.head()"
   ]
  },
  {
   "cell_type": "code",
   "execution_count": 47,
   "id": "3bb73fb3-7bf9-4ef1-b802-c99fd6bbb1e1",
   "metadata": {},
   "outputs": [],
   "source": [
    "yf = pd.read_csv(\"../data/yf_data.csv\")"
   ]
  },
  {
   "cell_type": "code",
   "execution_count": 49,
   "id": "765dc27f-3dde-4c7b-9ed6-494d6f875e8b",
   "metadata": {},
   "outputs": [
    {
     "name": "stdout",
     "output_type": "stream",
     "text": [
      "<class 'pandas.core.frame.DataFrame'>\n",
      "RangeIndex: 3484 entries, 0 to 3483\n",
      "Data columns (total 7 columns):\n",
      " #   Column     Non-Null Count  Dtype  \n",
      "---  ------     --------------  -----  \n",
      " 0   Date       3484 non-null   object \n",
      " 1   EEM        3484 non-null   float64\n",
      " 2   Gold       3484 non-null   float64\n",
      " 3   FTSE100    3484 non-null   float64\n",
      " 4   S&P500     3484 non-null   float64\n",
      " 5   Nikkei225  3484 non-null   float64\n",
      " 6   UST10Y     3484 non-null   float64\n",
      "dtypes: float64(6), object(1)\n",
      "memory usage: 190.7+ KB\n"
     ]
    }
   ],
   "source": [
    "yf.info()"
   ]
  },
  {
   "cell_type": "code",
   "execution_count": null,
   "id": "847e9573-b25b-418a-8da6-ef66858473d4",
   "metadata": {},
   "outputs": [],
   "source": []
  },
  {
   "cell_type": "code",
   "execution_count": 29,
   "id": "7c388beb-fe32-472c-9951-8acb7f2c3d1c",
   "metadata": {},
   "outputs": [],
   "source": []
  },
  {
   "cell_type": "code",
   "execution_count": null,
   "id": "68a7e427-5011-441b-a649-558425eb8c32",
   "metadata": {},
   "outputs": [],
   "source": []
  },
  {
   "cell_type": "code",
   "execution_count": null,
   "id": "211452b0-ac33-4e6a-b0a5-91709a28deed",
   "metadata": {},
   "outputs": [],
   "source": []
  }
 ],
 "metadata": {
  "kernelspec": {
   "display_name": "Python (qfai)",
   "language": "python",
   "name": "qfai"
  },
  "language_info": {
   "codemirror_mode": {
    "name": "ipython",
    "version": 3
   },
   "file_extension": ".py",
   "mimetype": "text/x-python",
   "name": "python",
   "nbconvert_exporter": "python",
   "pygments_lexer": "ipython3",
   "version": "3.9.6"
  }
 },
 "nbformat": 4,
 "nbformat_minor": 5
}
