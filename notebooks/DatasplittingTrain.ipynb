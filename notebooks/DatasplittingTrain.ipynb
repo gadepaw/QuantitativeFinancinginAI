{
 "cells": [
  {
   "cell_type": "markdown",
   "id": "255f1203-6727-47c3-886a-939233e8802b",
   "metadata": {},
   "source": [
    "The final feature set was split into training, validation, and test sets using a chronological split (no shuffling).\n",
    "\n",
    "This reflects real-world use where future data shouldn't influence past predictions.\n",
    "\n",
    "Each set preserves the temporal integrity and alignment between input (X) and target (y) columns."
   ]
  },
  {
   "cell_type": "code",
   "execution_count": 1,
   "id": "1a87830d-9800-4793-93cb-baebc0856bae",
   "metadata": {},
   "outputs": [
    {
     "name": "stdout",
     "output_type": "stream",
     "text": [
      "Train: (2067, 43)\n",
      "Validation: (692, 43)\n",
      "Test: (695, 43)\n"
     ]
    }
   ],
   "source": [
    "import pandas as pd\n",
    "\n",
    "\n",
    "df = pd.read_csv(\"../data/final_features_with_targets.csv\", index_col=0, parse_dates=True)\n",
    "\n",
    "train = df.loc[:'2018-12-31']\n",
    "val = df.loc['2019-01-01':'2021-12-31']\n",
    "test = df.loc['2022-01-01':]\n",
    "\n",
    "\n",
    "print(\"Train:\", train.shape)\n",
    "print(\"Validation:\", val.shape)\n",
    "print(\"Test:\", test.shape)\n",
    "\n",
    "# Extract feature and target column names\n",
    "feature_cols = [col for col in df.columns if not col.endswith('_target_5d')]\n",
    "target_cols = [col for col in df.columns if col.endswith('_target_5d')]\n",
    "\n",
    "# Input and target matrices\n",
    "X_train, y_train = train[feature_cols], train[target_cols]\n",
    "X_val, y_val = val[feature_cols], val[target_cols]\n",
    "X_test, y_test = test[feature_cols], test[target_cols]\n",
    "\n",
    "# Saving splits to CSVs if needed\n",
    "X_train.to_csv(\"../data/X_train.csv\")\n",
    "y_train.to_csv(\"../data/y_train.csv\")\n",
    "X_val.to_csv(\"../data/X_val.csv\")\n",
    "y_val.to_csv(\"../data/y_val.csv\")\n",
    "X_test.to_csv(\"../data/X_test.csv\")\n",
    "y_test.to_csv(\"../data/y_test.csv\")\n"
   ]
  },
  {
   "cell_type": "code",
   "execution_count": 3,
   "id": "db54b053-e6cd-42e5-be55-94e24f230be5",
   "metadata": {},
   "outputs": [
    {
     "data": {
      "text/plain": [
       "(2067, 37)"
      ]
     },
     "metadata": {},
     "output_type": "display_data"
    }
   ],
   "source": [
    "display(X_train.shape)"
   ]
  },
  {
   "cell_type": "code",
   "execution_count": 5,
   "id": "18f2c80c-2ca4-4d65-996a-b6a7569ba02a",
   "metadata": {},
   "outputs": [
    {
     "data": {
      "text/plain": [
       "(2067, 6)"
      ]
     },
     "metadata": {},
     "output_type": "display_data"
    }
   ],
   "source": [
    "display(y_train.shape)"
   ]
  },
  {
   "cell_type": "code",
   "execution_count": null,
   "id": "d63dea77-bfe8-4d51-8af3-a604c7e067af",
   "metadata": {},
   "outputs": [],
   "source": []
  }
 ],
 "metadata": {
  "kernelspec": {
   "display_name": "Python (qfai)",
   "language": "python",
   "name": "qfai"
  },
  "language_info": {
   "codemirror_mode": {
    "name": "ipython",
    "version": 3
   },
   "file_extension": ".py",
   "mimetype": "text/x-python",
   "name": "python",
   "nbconvert_exporter": "python",
   "pygments_lexer": "ipython3",
   "version": "3.9.6"
  }
 },
 "nbformat": 4,
 "nbformat_minor": 5
}
